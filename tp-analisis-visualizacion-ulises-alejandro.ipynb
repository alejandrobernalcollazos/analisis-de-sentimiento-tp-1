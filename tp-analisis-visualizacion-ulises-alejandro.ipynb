{
 "cells": [
  {
   "cell_type": "markdown",
   "metadata": {},
   "source": [
    "## Análisis y Visualizción - Mentoría - Review de productos en Amazon"
   ]
  },
  {
   "cell_type": "markdown",
   "metadata": {},
   "source": [
    "### Ulises Dascalakis\n",
    "\n",
    "Mail : ulises.dasca@live.com.ar\n",
    "\n",
    "### Alejandro Bernal\n",
    "\n",
    "Mail : alejandro@alejandro.bio\n",
    "\n",
    "### Presentación: <a href=\"https://docs.google.com/presentation/d/186sn-p9yqiaRcpSIFJzCVnW95iy8sUpnP-z9yZA2LYk/edit?usp=sharing\" target=\"_blank\">Enlace a la presentación</a>\n"
   ]
  },
  {
   "cell_type": "code",
   "execution_count": 402,
   "metadata": {},
   "outputs": [],
   "source": [
    "import pandas as pd\n",
    "import seaborn as sns\n",
    "import matplotlib.pyplot as plt\n",
    "import numpy as np"
   ]
  },
  {
   "cell_type": "code",
   "execution_count": 403,
   "metadata": {},
   "outputs": [],
   "source": [
    "dataset = pd.read_csv('data_review.csv')"
   ]
  },
  {
   "cell_type": "markdown",
   "metadata": {},
   "source": [
    "### Consistencia de los datos"
   ]
  },
  {
   "cell_type": "code",
   "execution_count": 404,
   "metadata": {},
   "outputs": [
    {
     "data": {
      "text/plain": [
       "['rating', 'title', 'review', 'target']"
      ]
     },
     "execution_count": 404,
     "metadata": {},
     "output_type": "execute_result"
    }
   ],
   "source": [
    "### Listamos los nombres de las columnas\n",
    "list(dataset.columns.values)"
   ]
  },
  {
   "cell_type": "code",
   "execution_count": 405,
   "metadata": {},
   "outputs": [
    {
     "data": {
      "text/plain": [
       "count         99999\n",
       "unique        87206\n",
       "top       Excellent\n",
       "freq            228\n",
       "Name: title, dtype: object"
      ]
     },
     "execution_count": 405,
     "metadata": {},
     "output_type": "execute_result"
    }
   ],
   "source": [
    "### Describiendo los datos de la columna title\n",
    "dataset['title'].describe()"
   ]
  },
  {
   "cell_type": "code",
   "execution_count": 406,
   "metadata": {},
   "outputs": [
    {
     "data": {
      "text/plain": [
       "count    100000.000000\n",
       "mean          3.975310\n",
       "std           1.496717\n",
       "min           1.000000\n",
       "25%           3.000000\n",
       "50%           5.000000\n",
       "75%           5.000000\n",
       "max           5.000000\n",
       "Name: rating, dtype: float64"
      ]
     },
     "execution_count": 406,
     "metadata": {},
     "output_type": "execute_result"
    }
   ],
   "source": [
    "### Describiendo los datos de rating\n",
    "dataset['rating'].describe()"
   ]
  },
  {
   "cell_type": "code",
   "execution_count": 407,
   "metadata": {},
   "outputs": [
    {
     "data": {
      "text/plain": [
       "count    93225.000000\n",
       "mean         0.785036\n",
       "std          0.410799\n",
       "min          0.000000\n",
       "25%          1.000000\n",
       "50%          1.000000\n",
       "75%          1.000000\n",
       "max          1.000000\n",
       "Name: target, dtype: float64"
      ]
     },
     "execution_count": 407,
     "metadata": {},
     "output_type": "execute_result"
    }
   ],
   "source": [
    "### Describiendo los datos de target\n",
    "dataset['target'].describe()"
   ]
  },
  {
   "cell_type": "code",
   "execution_count": 408,
   "metadata": {},
   "outputs": [
    {
     "name": "stdout",
     "output_type": "stream",
     "text": [
      "rating_is_null: False\n",
      "target_is_null: True\n"
     ]
    }
   ],
   "source": [
    "### Evaluando si hay datos nulos\n",
    "rating_is_null = dataset['rating'].isnull().values.any()\n",
    "target_is_null = dataset['target'].isnull().values.any()\n",
    "print('rating_is_null: ' + str(rating_is_null))\n",
    "print('target_is_null: ' + str(target_is_null))"
   ]
  },
  {
   "cell_type": "code",
   "execution_count": 409,
   "metadata": {},
   "outputs": [
    {
     "data": {
      "text/plain": [
       "True"
      ]
     },
     "execution_count": 409,
     "metadata": {},
     "output_type": "execute_result"
    }
   ],
   "source": [
    "#Contamos los valores nulos de target\n",
    "target_null = list(dataset['target'].isnull()).count(True)\n",
    "#Contamos los valores no nulos de target\n",
    "target_not_null = list(dataset['target'].isnull()).count(False)\n",
    "#Validamos si la cantidad de valores nulos y no nulos es lo mismo que el total de registros\n",
    "target_null + target_not_null == dataset['target'].shape[0]"
   ]
  },
  {
   "cell_type": "markdown",
   "metadata": {},
   "source": [
    "### Resultado del Análisis de los Datos"
   ]
  },
  {
   "cell_type": "markdown",
   "metadata": {},
   "source": [
    "Analizamos el dataset y obtuvimos lo siguiente para cada campo:\n",
    "* <b>title</b>: posee valores nulos, tenemos faltantes.\n",
    "* <b>review</b>: no posee valores nulos.\n",
    "* <b>rating</b>: no posee valores nulos. \n",
    "* <b>target</b>: tenemos faltantes, posee valores nulos."
   ]
  },
  {
   "cell_type": "markdown",
   "metadata": {},
   "source": [
    "<b>Conclusión</b>: No hay valores Nulos en Rating pero si en Target."
   ]
  },
  {
   "cell_type": "code",
   "execution_count": 410,
   "metadata": {},
   "outputs": [
    {
     "name": "stdout",
     "output_type": "stream",
     "text": [
      "Podemos observar que el 6.775% de los valores son nulos para Target\n"
     ]
    }
   ],
   "source": [
    "### Dimensionamos los valores null\n",
    "cant_target_null = dataset['target'].isnull().sum()\n",
    "print(\"Podemos observar que el \" + \n",
    "      str((cant_target_null / dataset['target'].shape[0])* 100) + \"% de los valores son nulos para Target\")"
   ]
  },
  {
   "cell_type": "markdown",
   "metadata": {},
   "source": [
    "Para darle consistencia a los datos decidimos lo siguiente. En el caso del campo title, lo dejamos en blanco. \n",
    "Para los valores de rating menores o iguales a 3, le asignamos un target = 0."
   ]
  },
  {
   "cell_type": "code",
   "execution_count": 411,
   "metadata": {},
   "outputs": [],
   "source": [
    "dataset[dataset['rating']==3] = dataset[dataset['rating']==3].fillna(0)"
   ]
  },
  {
   "cell_type": "markdown",
   "metadata": {},
   "source": [
    "### Cantidad de Reviews por Rating"
   ]
  },
  {
   "cell_type": "code",
   "execution_count": 412,
   "metadata": {},
   "outputs": [
    {
     "data": {
      "text/plain": [
       "Text(0.5, 1.0, 'Cantidad Por Rating')"
      ]
     },
     "execution_count": 412,
     "metadata": {},
     "output_type": "execute_result"
    },
    {
     "data": {
      "image/png": "[encoded data removed]",
      "text/plain": [
       "<Figure size 432x288 with 1 Axes>"
      ]
     },
     "metadata": {},
     "output_type": "display_data"
    }
   ],
   "source": [
    "sns.countplot(data=dataset, x='rating').set_title('Cantidad Por Rating')"
   ]
  },
  {
   "cell_type": "markdown",
   "metadata": {},
   "source": [
    "<b>Conclusión</b>: Podemos visualizar que la mayor cantidad de reviews tienen un Rating alto. Podemos decir que los usuarios que completan reviews tienden a responder de manera positiva."
   ]
  },
  {
   "cell_type": "markdown",
   "metadata": {},
   "source": [
    "### Distribución de los Ratings\n",
    "¿Los ratings tienen una distribución conocida? ¿Cuál?"
   ]
  },
  {
   "cell_type": "code",
   "execution_count": 413,
   "metadata": {},
   "outputs": [
    {
     "data": {
      "text/plain": [
       "<matplotlib.axes._subplots.AxesSubplot at 0x18972902e48>"
      ]
     },
     "execution_count": 413,
     "metadata": {},
     "output_type": "execute_result"
    },
    {
     "data": {
      "image/png": "[encoded data removed]",
      "text/plain": [
       "<Figure size 432x288 with 1 Axes>"
      ]
     },
     "metadata": {},
     "output_type": "display_data"
    }
   ],
   "source": [
    "## Graficando distribución de los ratings\n",
    "plt.title('Distribución de Rating')\n",
    "plt.ylabel('Cantidad por Rating')\n",
    "sns.distplot(dataset['rating'])"
   ]
  },
  {
   "cell_type": "markdown",
   "metadata": {},
   "source": [
    "<b>Conclusión:</b> Cada valor de la columna rating tiene la misma probabilidad ya que puede tomar los valores preestablecidos del 1 al 5. Los valores fuera de este rango nunca ocurren entonces encontramos una <b>distribución de probabilidad uniforme.</b>"
   ]
  },
  {
   "cell_type": "markdown",
   "metadata": {},
   "source": [
    "### Target vs Rating"
   ]
  },
  {
   "cell_type": "markdown",
   "metadata": {},
   "source": [
    "Analizamos la relación entre los valores de Rating y Target"
   ]
  },
  {
   "cell_type": "code",
   "execution_count": 414,
   "metadata": {},
   "outputs": [
    {
     "data": {
      "text/plain": [
       "Text(0.5, 1.0, 'Target vs Rating')"
      ]
     },
     "execution_count": 414,
     "metadata": {},
     "output_type": "execute_result"
    },
    {
     "data": {
      "image/png": "[encoded data removed]",
      "text/plain": [
       "<Figure size 432x288 with 1 Axes>"
      ]
     },
     "metadata": {},
     "output_type": "display_data"
    }
   ],
   "source": [
    "sns.scatterplot(x=\"rating\", y=\"target\", data=dataset).set_title(\"Target vs Rating\")"
   ]
  },
  {
   "cell_type": "markdown",
   "metadata": {},
   "source": [
    "<b>Conclusión</b>: Podemos visualizar que target 1 se da en valores de rating mayores a 3 y para los rating menores de 3 se da un valor de target 0. En conclusión todos los ratings con valores mayores a 3, son de target positivo."
   ]
  },
  {
   "cell_type": "markdown",
   "metadata": {},
   "source": [
    "### Buscando Outliers\n",
    "¿El datset presenta algún outlier?"
   ]
  },
  {
   "cell_type": "code",
   "execution_count": 415,
   "metadata": {},
   "outputs": [
    {
     "data": {
      "text/plain": [
       "Text(0.5, 1.0, 'Rating Boxplot')"
      ]
     },
     "execution_count": 415,
     "metadata": {},
     "output_type": "execute_result"
    },
    {
     "data": {
      "image/png": "[encoded data removed]",
      "text/plain": [
       "<Figure size 432x288 with 1 Axes>"
      ]
     },
     "metadata": {},
     "output_type": "display_data"
    }
   ],
   "source": [
    "sns.set(style=\"whitegrid\")\n",
    "sns.boxplot(x=dataset[\"rating\"]).set_title(\"Rating Boxplot\")"
   ]
  },
  {
   "cell_type": "code",
   "execution_count": 416,
   "metadata": {},
   "outputs": [
    {
     "data": {
      "text/plain": [
       "Text(0.5, 1.0, 'Target Boxplot')"
      ]
     },
     "execution_count": 416,
     "metadata": {},
     "output_type": "execute_result"
    },
    {
     "data": {
      "image/png": "[encoded data removed]",
      "text/plain": [
       "<Figure size 432x288 with 1 Axes>"
      ]
     },
     "metadata": {},
     "output_type": "display_data"
    }
   ],
   "source": [
    "sns.set(style=\"whitegrid\")\n",
    "sns.boxplot(x=dataset[\"target\"]).set_title(\"Target Boxplot\")"
   ]
  },
  {
   "cell_type": "markdown",
   "metadata": {},
   "source": [
    "<b>Conclusión</b>: El dataset no presenta outliers, las variables target y rating son variables categóricas y pueden contener valores acotados 1 o 0 para target y entre 1 y 5 para rating. Representamos estos atributos en un boxplot para visualizar la inexistencia de outliers. \n"
   ]
  }
 ],
 "metadata": {
  "kernelspec": {
   "display_name": "Python 3",
   "language": "python",
   "name": "python3"
  },
  "language_info": {
   "codemirror_mode": {
    "name": "ipython",
    "version": 3
   },
   "file_extension": ".py",
   "mimetype": "text/x-python",
   "name": "python",
   "nbconvert_exporter": "python",
   "pygments_lexer": "ipython3",
   "version": "3.7.1"
  }
 },
 "nbformat": 4,
 "nbformat_minor": 2
}
