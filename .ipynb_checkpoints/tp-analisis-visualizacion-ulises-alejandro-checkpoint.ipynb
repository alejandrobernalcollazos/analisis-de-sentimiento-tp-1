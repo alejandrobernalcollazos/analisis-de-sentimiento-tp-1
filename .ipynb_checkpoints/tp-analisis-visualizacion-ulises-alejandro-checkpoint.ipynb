{
 "cells": [
  {
   "cell_type": "markdown",
   "metadata": {},
   "source": [
    "## Análisis y Visualizción - Mentoría"
   ]
  },
  {
   "cell_type": "markdown",
   "metadata": {},
   "source": [
    "## Review de productos en Amazon\n",
    "\n",
    "### Ulises Dascalakis\n",
    "\n",
    "Mail : ulises.dasca@live.com.ar\n",
    "\n",
    "### Alejandro Bernal\n",
    "\n",
    "Mail : alejandro@alejandro.bio\n",
    "\n",
    "### Presentación: <a href=\"https://docs.google.com/presentation/d/186sn-p9yqiaRcpSIFJzCVnW95iy8sUpnP-z9yZA2LYk/edit?usp=sharing\">Enlace a la presentación</a>\n"
   ]
  },
  {
   "cell_type": "code",
   "execution_count": 185,
   "metadata": {},
   "outputs": [],
   "source": [
    "import pandas as pd\n",
    "import seaborn as sns\n",
    "import matplotlib.pyplot as plt\n",
    "import numpy as np"
   ]
  },
  {
   "cell_type": "code",
   "execution_count": 172,
   "metadata": {},
   "outputs": [],
   "source": [
    "dataset = pd.read_csv('data_review.csv')"
   ]
  },
  {
   "cell_type": "markdown",
   "metadata": {},
   "source": [
    "### 1 Analizar la consistencia/inconsistencia de los datos."
   ]
  },
  {
   "cell_type": "code",
   "execution_count": 173,
   "metadata": {},
   "outputs": [
    {
     "data": {
      "text/plain": [
       "['rating', 'title', 'review', 'target']"
      ]
     },
     "execution_count": 173,
     "metadata": {},
     "output_type": "execute_result"
    }
   ],
   "source": [
    "### Listamos los nombres de las columnas\n",
    "list(dataset.columns.values)"
   ]
  },
  {
   "cell_type": "markdown",
   "metadata": {},
   "source": [
    "### La columna 'rating' : Representa datos categoricos del 1 al 5  y no contiene datos nulos"
   ]
  },
  {
   "cell_type": "code",
   "execution_count": 276,
   "metadata": {},
   "outputs": [
    {
     "data": {
      "text/plain": [
       "count    100000.000000\n",
       "mean          3.975310\n",
       "std           1.496717\n",
       "min           1.000000\n",
       "25%           3.000000\n",
       "50%           5.000000\n",
       "75%           5.000000\n",
       "max           5.000000\n",
       "Name: rating, dtype: float64"
      ]
     },
     "execution_count": 276,
     "metadata": {},
     "output_type": "execute_result"
    }
   ],
   "source": [
    "### Describiendo los datos de rating\n",
    "dataset['rating'].describe()"
   ]
  },
  {
   "cell_type": "code",
   "execution_count": 275,
   "metadata": {},
   "outputs": [
    {
     "data": {
      "text/plain": [
       "count         99999\n",
       "unique        87206\n",
       "top       Excellent\n",
       "freq            228\n",
       "Name: title, dtype: object"
      ]
     },
     "execution_count": 275,
     "metadata": {},
     "output_type": "execute_result"
    }
   ],
   "source": [
    "### Describiendo los datos de la columna title\n",
    "dataset['title'].describe()"
   ]
  },
  {
   "cell_type": "markdown",
   "metadata": {},
   "source": [
    "## Análisis de valores nulos"
   ]
  },
  {
   "cell_type": "code",
   "execution_count": 211,
   "metadata": {},
   "outputs": [
    {
     "name": "stdout",
     "output_type": "stream",
     "text": [
      "rating_is_null: False\n",
      "target_is_null: True\n"
     ]
    }
   ],
   "source": [
    "### Evaluando si hay datos nulos\n",
    "rating_is_null = dataset['rating'].isnull().values.any()\n",
    "target_is_null = dataset['target'].isnull().values.any()\n",
    "print('rating_is_null: ' + str(rating_is_null))\n",
    "print('target_is_null: ' + str(target_is_null))"
   ]
  },
  {
   "cell_type": "markdown",
   "metadata": {},
   "source": [
    "Conclusión: No hay valores Nulos en Rating pero si en Target."
   ]
  },
  {
   "cell_type": "code",
   "execution_count": 270,
   "metadata": {},
   "outputs": [
    {
     "data": {
      "text/plain": [
       "True"
      ]
     },
     "execution_count": 270,
     "metadata": {},
     "output_type": "execute_result"
    }
   ],
   "source": [
    "#Contamos los valores nulos de target\n",
    "target_null = list(dataset['target'].isnull()).count(True)\n",
    "#Contamos los valores no nulos de target\n",
    "target_not_null = list(dataset['target'].isnull()).count(False)\n",
    "#Validamos si la cantidad de valores nulos y no nulos es lo mismo que el total de registros\n",
    "target_null + target_not_null == dataset['target'].shape[0]"
   ]
  },
  {
   "cell_type": "markdown",
   "metadata": {},
   "source": [
    "### Cantidad de Reviews por Rating"
   ]
  },
  {
   "cell_type": "code",
   "execution_count": 272,
   "metadata": {},
   "outputs": [
    {
     "data": {
      "text/plain": [
       "Text(0.5, 1.0, 'Cantidad Por Rating')"
      ]
     },
     "execution_count": 272,
     "metadata": {},
     "output_type": "execute_result"
    },
    {
     "data": {
      "image/png": "[encoded data removed]",
      "text/plain": [
       "<Figure size 432x288 with 1 Axes>"
      ]
     },
     "metadata": {
      "needs_background": "light"
     },
     "output_type": "display_data"
    }
   ],
   "source": [
    "sns.countplot(data=dataset, x='rating').set_title('Cantidad Por Rating')"
   ]
  },
  {
   "cell_type": "markdown",
   "metadata": {},
   "source": [
    "Conclusión: Podemos visualizar que la mayor cantidad de reviews tienen un Rating alto. Podemos decir que los usuarios que completan reviews tienden a responder de manera positiva."
   ]
  },
  {
   "cell_type": "markdown",
   "metadata": {},
   "source": [
    "### La columna 'title' : Representa los titulos de la Review y solo tiene un dato vacio"
   ]
  },
  {
   "cell_type": "code",
   "execution_count": 277,
   "metadata": {},
   "outputs": [
    {
     "data": {
      "text/plain": [
       "0    .............Am I in Midgard anymore ?\n",
       "1     Zip wax new formula is just horrible.\n",
       "2                   Apatow's Depth Triumphs\n",
       "3                               Dream of C.\n",
       "4                           it doesnt suck.\n",
       "Name: title, dtype: object"
      ]
     },
     "execution_count": 277,
     "metadata": {},
     "output_type": "execute_result"
    }
   ],
   "source": [
    "### Mostrando los primeros los datos de la columna title\n",
    "dataset['title'].head()"
   ]
  },
  {
   "cell_type": "code",
   "execution_count": 323,
   "metadata": {},
   "outputs": [
    {
     "data": {
      "text/plain": [
       "1"
      ]
     },
     "execution_count": 323,
     "metadata": {},
     "output_type": "execute_result"
    }
   ],
   "source": [
    "### Evaluando si hay datos nulos\n",
    "dataset['title'].isnull().sum()"
   ]
  },
  {
   "cell_type": "markdown",
   "metadata": {},
   "source": [
    "### La columna 'review' : Representa a la descripción en si de la review y no contiene datos vacios"
   ]
  },
  {
   "cell_type": "code",
   "execution_count": null,
   "metadata": {},
   "outputs": [],
   "source": [
    "### Evaluando los datos de la columna review\n",
    "dataset['review'].head()"
   ]
  },
  {
   "cell_type": "code",
   "execution_count": null,
   "metadata": {},
   "outputs": [],
   "source": [
    "### Evaluando los datos de la columna review\n",
    "dataset['review'].describe()"
   ]
  },
  {
   "cell_type": "code",
   "execution_count": null,
   "metadata": {},
   "outputs": [],
   "source": [
    "### Evaluando los datos de la columna review\n",
    "dataset['review'].isnull().sum()"
   ]
  },
  {
   "cell_type": "markdown",
   "metadata": {},
   "source": [
    "### La columna 'target' : Representa datos categoricos booleanos y 6775 contiene datos vacios"
   ]
  },
  {
   "cell_type": "code",
   "execution_count": null,
   "metadata": {},
   "outputs": [],
   "source": [
    "### Evaluando los datos de la columna review\n",
    "dataset['target'].head()"
   ]
  },
  {
   "cell_type": "code",
   "execution_count": null,
   "metadata": {},
   "outputs": [],
   "source": [
    "### Evaluando los datos de la columna review\n",
    "dataset['target'].describe()"
   ]
  },
  {
   "cell_type": "code",
   "execution_count": null,
   "metadata": {},
   "outputs": [],
   "source": [
    "### Evaluando los datos de la columna review\n",
    "dataset['target'].isnull().sum()"
   ]
  },
  {
   "cell_type": "markdown",
   "metadata": {},
   "source": [
    "### 1.1 En caso de presentarse faltantes, que decisión tomaría para su tratamiento. ¿Porqué?"
   ]
  },
  {
   "cell_type": "markdown",
   "metadata": {},
   "source": [
    "#### Se presentan faltantes en los campos\n",
    "\n",
    "* ##### Si hay faltantes, sobre todo en el campo Target\n",
    "* ##### Dado que al parecer los valores nulos son a proposito puesto que dividen al dataset en dos porque son los que tienen un rating de 3, destimariamos los registros con esos valores para futuros analisis"
   ]
  },
  {
   "cell_type": "markdown",
   "metadata": {},
   "source": [
    "#### Evaluando información de los datos faltantes"
   ]
  },
  {
   "cell_type": "markdown",
   "metadata": {},
   "source": [
    "* Todo campo nulo en target tiene un valor de rating = 3\n",
    "* Todo rating = 3 tiene un valor nulo en target\n",
    "* un rating de 3 parece dar lugar a una división binaria en el dataset\n",
    "* Contrastamos a las campos 'rating' y 'target' pues son los datos categoricos que pueden tener relación"
   ]
  },
  {
   "cell_type": "code",
   "execution_count": null,
   "metadata": {},
   "outputs": [],
   "source": [
    "dataset[dataset['target'].isnull()]['rating'].hist()"
   ]
  },
  {
   "cell_type": "code",
   "execution_count": null,
   "metadata": {},
   "outputs": [],
   "source": [
    "dataset[dataset['rating'] == 3]['target'].hist()"
   ]
  },
  {
   "cell_type": "markdown",
   "metadata": {},
   "source": [
    "* Todo valor de target es 0 cuando el rating es menor a 3"
   ]
  },
  {
   "cell_type": "markdown",
   "metadata": {},
   "source": [
    "* Todo valor de target es 1 cuando el rating es mayor a 3"
   ]
  },
  {
   "cell_type": "markdown",
   "metadata": {},
   "source": [
    "#### Analizando al valor de rating para todo target diferente de nulo"
   ]
  },
  {
   "cell_type": "code",
   "execution_count": null,
   "metadata": {},
   "outputs": [],
   "source": [
    "dataset[dataset['target'] != '']['rating'].hist()"
   ]
  },
  {
   "cell_type": "code",
   "execution_count": null,
   "metadata": {},
   "outputs": [],
   "source": [
    "dataset.corr()"
   ]
  },
  {
   "cell_type": "code",
   "execution_count": 301,
   "metadata": {},
   "outputs": [
    {
     "data": {
      "text/plain": [
       "<matplotlib.axes._subplots.AxesSubplot at 0x1891a09cba8>"
      ]
     },
     "execution_count": 301,
     "metadata": {},
     "output_type": "execute_result"
    },
    {
     "data": {
      "image/png": "[encoded data removed]",
      "text/plain": [
       "<Figure size 432x288 with 1 Axes>"
      ]
     },
     "metadata": {
      "needs_background": "light"
     },
     "output_type": "display_data"
    }
   ],
   "source": [
    "## Graficando distribución de los ratings\n",
    "plt.title('Distribución de Rating')\n",
    "plt.ylabel('Cantidad por Rating')\n",
    "sns.distplot(dataset['rating'])"
   ]
  },
  {
   "cell_type": "markdown",
   "metadata": {},
   "source": [
    "Cada valor de la columna rating tiene la misma probabilidad ya que puede tomar los valores preestablecidos del 1 al 5. Los valores fuera de este rango nunca ocurren entonces encontramos una <b>distribución de probabilidad uniforme.</b>"
   ]
  },
  {
   "cell_type": "markdown",
   "metadata": {},
   "source": [
    "### 2.3 ¿Qué información se puede encontrar entre las distintas clases de rating?"
   ]
  },
  {
   "cell_type": "markdown",
   "metadata": {},
   "source": [
    "* #### Son muchas más las reviews con rating alto \"5\"\n",
    "* #### Las reviews con rating muy bajo son un poco más que las reviews con rating de 4"
   ]
  },
  {
   "cell_type": "markdown",
   "metadata": {},
   "source": [
    "### Target VS Rating"
   ]
  },
  {
   "cell_type": "markdown",
   "metadata": {},
   "source": [
    "Analizamos la relación entre los valores de Rating y Target"
   ]
  },
  {
   "cell_type": "code",
   "execution_count": 342,
   "metadata": {},
   "outputs": [
    {
     "data": {
      "text/plain": [
       "Text(0.5, 1.0, 'Target vs Rating')"
      ]
     },
     "execution_count": 342,
     "metadata": {},
     "output_type": "execute_result"
    },
    {
     "data": {
      "image/png": "[encoded data removed]",
      "text/plain": [
       "<Figure size 432x288 with 1 Axes>"
      ]
     },
     "metadata": {},
     "output_type": "display_data"
    }
   ],
   "source": [
    "sns.scatterplot(x=\"rating\", y=\"target\", data=dataset).set_title(\"Target vs Rating\")"
   ]
  },
  {
   "cell_type": "markdown",
   "metadata": {},
   "source": [
    "Conclusión: Podemos visualizar que target 1 se da en valores de rating mayores a 3 y para los rating menores de 3 se da un valor de target 0. En conclusión todos los ratings con valores mayores a 3, son de target positivo."
   ]
  },
  {
   "cell_type": "markdown",
   "metadata": {},
   "source": [
    "### Outliers"
   ]
  },
  {
   "cell_type": "code",
   "execution_count": 340,
   "metadata": {},
   "outputs": [
    {
     "data": {
      "image/png": "[encoded data removed]",
      "text/plain": [
       "<Figure size 432x288 with 1 Axes>"
      ]
     },
     "metadata": {},
     "output_type": "display_data"
    }
   ],
   "source": [
    "sns.set(style=\"whitegrid\")\n",
    "ax = sns.boxplot(x=dataset[\"rating\"]).set_title(\"Rating Outliers\")"
   ]
  },
  {
   "cell_type": "code",
   "execution_count": 341,
   "metadata": {},
   "outputs": [
    {
     "data": {
      "image/png": "[encoded data removed]",
      "text/plain": [
       "<Figure size 432x288 with 1 Axes>"
      ]
     },
     "metadata": {},
     "output_type": "display_data"
    }
   ],
   "source": [
    "sns.set(style=\"whitegrid\")\n",
    "ax = sns.boxplot(x=dataset[\"target\"]).set_title(\"Target Outliers\")"
   ]
  },
  {
   "cell_type": "markdown",
   "metadata": {},
   "source": [
    "Conclusión: El dataset no presenta outliers, las variables target y rating son variables categóricas y pueden contener valores acotados 1 o 0 para target y entre 1 y 5 para rating. Representamos estos atributos en un boxplot para visualizar la inexistencia de outliers. \n"
   ]
  }
 ],
 "metadata": {
  "kernelspec": {
   "display_name": "Python 3",
   "language": "python",
   "name": "python3"
  },
  "language_info": {
   "codemirror_mode": {
    "name": "ipython",
    "version": 3
   },
   "file_extension": ".py",
   "mimetype": "text/x-python",
   "name": "python",
   "nbconvert_exporter": "python",
   "pygments_lexer": "ipython3",
   "version": "3.7.1"
  }
 },
 "nbformat": 4,
 "nbformat_minor": 2
}
